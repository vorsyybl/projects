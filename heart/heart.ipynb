{
 "cells": [
  {
   "cell_type": "code",
   "execution_count": 1,
   "id": "e7a15c25",
   "metadata": {},
   "outputs": [],
   "source": [
    "import pandas as pd\n",
    "import time\n",
    "import matplotlib.pyplot as plt"
   ]
  },
  {
   "cell_type": "code",
   "execution_count": 2,
   "id": "82707276",
   "metadata": {},
   "outputs": [],
   "source": [
    "#   COLLECTION\n",
    "df = pd.read_csv('heart.csv')\n",
    "data = df.loc[:, ['Age', 'Sex', 'RestingBP', 'Cholesterol', 'HeartDisease']]"
   ]
  },
  {
   "cell_type": "code",
   "execution_count": 3,
   "id": "46e877fc",
   "metadata": {},
   "outputs": [],
   "source": [
    "#   PREPROCESSING\n",
    "info = data.describe()\n",
    "info_rows = ['count', 'min', 'max']\n",
    "num_rows = data.shape[0]"
   ]
  },
  {
   "cell_type": "code",
   "execution_count": 4,
   "id": "a783acda",
   "metadata": {},
   "outputs": [
    {
     "data": {
      "image/png": "[encoded data removed]",
      "text/plain": [
       "<Figure size 432x288 with 1 Axes>"
      ]
     },
     "metadata": {
      "needs_background": "light"
     },
     "output_type": "display_data"
    }
   ],
   "source": [
    "#   LOCATE OUTLIERS USING A BOXPLOT\n",
    "ax = plt.axes()\n",
    "ax.boxplot([data['RestingBP'], data['Cholesterol']], labels=['RestingBP', 'Cholesterol'])\n",
    "ax.set_facecolor('grey')\n",
    "ax.set_ylabel('VALUE')\n",
    "plt.show()"
   ]
  },
  {
   "cell_type": "code",
   "execution_count": 8,
   "id": "7aee54e8",
   "metadata": {},
   "outputs": [],
   "source": [
    "#   REMOVING OUTLIERS\n",
    "rbp_out = data[(data['RestingBP'] > 170) | (data['RestingBP'] < 90)].index.values\n",
    "chol_out = data[(data['Cholesterol'] > 408) | (data['Cholesterol'] < 85)].index.values\n",
    "outliers = (set(rbp_out).union(set(chol_out)))\n",
    "for row in outliers:\n",
    "    data.drop(row, axis=0, inplace=True)\n",
    "\n",
    "num_rows = data.shape[0]\n",
    "sex_counts = data['Sex'].value_counts()\n",
    "counts = [sex_counts[0], sex_counts[1]]\n",
    "gender = [sex_counts.index.values[0], sex_counts.index.values[1]]"
   ]
  },
  {
   "cell_type": "code",
   "execution_count": 9,
   "id": "89187ffe",
   "metadata": {},
   "outputs": [
    {
     "name": "stdout",
     "output_type": "stream",
     "text": [
      "There are 715 participants, 545 Male, 170 female.\n"
     ]
    },
    {
     "data": {
      "image/png": "[encoded data removed]",
      "text/plain": [
       "<Figure size 432x288 with 1 Axes>"
      ]
     },
     "metadata": {
      "needs_background": "light"
     },
     "output_type": "display_data"
    },
    {
     "name": "stdout",
     "output_type": "stream",
     "text": [
      "Participants are mostly between 50 and 60 years old.\n"
     ]
    },
    {
     "data": {
      "image/png": "[encoded data removed]",
      "text/plain": [
       "<Figure size 432x288 with 1 Axes>"
      ]
     },
     "metadata": {
      "needs_background": "light"
     },
     "output_type": "display_data"
    }
   ],
   "source": [
    "#   EDA\n",
    "print(f'There are {num_rows} participants, {counts[0]} Male, {counts[1]} female.')\n",
    "time.sleep(3)\n",
    "\n",
    "ax = plt.axes()\n",
    "ax.set_facecolor('grey')\n",
    "ax.bar(gender, counts, color='orange', edgecolor='black', linewidth=3)\n",
    "ax.set_title('Gender Distribution')\n",
    "ax.set_xlabel('GENDER')\n",
    "ax.set_ylabel('TOTAL')\n",
    "plt.show(block=False)\n",
    "plt.pause(4)\n",
    "plt.close()\n",
    "\n",
    "print('Participants are mostly between 50 and 60 years old.')\n",
    "time.sleep(4)\n",
    "\n",
    "ax = plt.axes()\n",
    "ax.set_facecolor('grey')\n",
    "ax.hist(x=data['Age'], bins=10, color='orange', edgecolor='black', linewidth=3)\n",
    "ax.set_title('Age Distribution')\n",
    "ax.set_xlabel('AGE')\n",
    "ax.set_ylabel('TOTAL')\n",
    "plt.show(block=False)\n",
    "plt.pause(4)\n",
    "plt.close()"
   ]
  },
  {
   "cell_type": "code",
   "execution_count": 10,
   "id": "983970b1",
   "metadata": {},
   "outputs": [
    {
     "data": {
      "text/html": [
       "<div>\n",
       "<style scoped>\n",
       "    .dataframe tbody tr th:only-of-type {\n",
       "        vertical-align: middle;\n",
       "    }\n",
       "\n",
       "    .dataframe tbody tr th {\n",
       "        vertical-align: top;\n",
       "    }\n",
       "\n",
       "    .dataframe thead th {\n",
       "        text-align: right;\n",
       "    }\n",
       "</style>\n",
       "<table border=\"1\" class=\"dataframe\">\n",
       "  <thead>\n",
       "    <tr style=\"text-align: right;\">\n",
       "      <th></th>\n",
       "      <th>Age</th>\n",
       "      <th>RestingBP</th>\n",
       "      <th>Cholesterol</th>\n",
       "      <th>HeartDisease</th>\n",
       "    </tr>\n",
       "  </thead>\n",
       "  <tbody>\n",
       "    <tr>\n",
       "      <th>Age</th>\n",
       "      <td>1.000000</td>\n",
       "      <td>0.274542</td>\n",
       "      <td>0.073851</td>\n",
       "      <td>0.309619</td>\n",
       "    </tr>\n",
       "    <tr>\n",
       "      <th>RestingBP</th>\n",
       "      <td>0.274542</td>\n",
       "      <td>1.000000</td>\n",
       "      <td>0.086744</td>\n",
       "      <td>0.176738</td>\n",
       "    </tr>\n",
       "    <tr>\n",
       "      <th>Cholesterol</th>\n",
       "      <td>0.073851</td>\n",
       "      <td>0.086744</td>\n",
       "      <td>1.000000</td>\n",
       "      <td>0.102855</td>\n",
       "    </tr>\n",
       "    <tr>\n",
       "      <th>HeartDisease</th>\n",
       "      <td>0.309619</td>\n",
       "      <td>0.176738</td>\n",
       "      <td>0.102855</td>\n",
       "      <td>1.000000</td>\n",
       "    </tr>\n",
       "  </tbody>\n",
       "</table>\n",
       "</div>"
      ],
      "text/plain": [
       "                   Age  RestingBP  Cholesterol  HeartDisease\n",
       "Age           1.000000   0.274542     0.073851      0.309619\n",
       "RestingBP     0.274542   1.000000     0.086744      0.176738\n",
       "Cholesterol   0.073851   0.086744     1.000000      0.102855\n",
       "HeartDisease  0.309619   0.176738     0.102855      1.000000"
      ]
     },
     "execution_count": 10,
     "metadata": {},
     "output_type": "execute_result"
    }
   ],
   "source": [
    "#   SEARCH FOR RELATIONSHIPS BETWEEN NUMERICAL ATTRIBUTES\n",
    "corrs = data.corr()\n",
    "corrs"
   ]
  },
  {
   "cell_type": "code",
   "execution_count": null,
   "id": "5dd6fd8d",
   "metadata": {},
   "outputs": [],
   "source": []
  }
 ],
 "metadata": {
  "kernelspec": {
   "display_name": "Python 3 (ipykernel)",
   "language": "python",
   "name": "python3"
  },
  "language_info": {
   "codemirror_mode": {
    "name": "ipython",
    "version": 3
   },
   "file_extension": ".py",
   "mimetype": "text/x-python",
   "name": "python",
   "nbconvert_exporter": "python",
   "pygments_lexer": "ipython3",
   "version": "3.9.7"
  }
 },
 "nbformat": 4,
 "nbformat_minor": 5
}
